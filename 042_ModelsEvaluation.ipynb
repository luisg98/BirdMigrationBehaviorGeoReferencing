{
 "cells": [
  {
   "cell_type": "markdown",
   "metadata": {},
   "source": [
    "| Model   | MSE      | RMSE     | MAE      |\n",
    "|---------|---------|---------|---------|\n",
    "| LSTM    | 0.082688 | 0.287555 | 0.226973 |\n",
    "| XGBoost | 0.001514 | 0.038910 | 0.021259 |\n",
    "| MLP     | 0.004711 | 0.068640 | 0.044800 |\n",
    "| GNN     | 0.071581 | 0.267547 | 0.223810 |\n"
   ]
  }
 ],
 "metadata": {
  "kernelspec": {
   "display_name": "Python 3",
   "language": "python",
   "name": "python3"
  },
  "language_info": {
   "codemirror_mode": {
    "name": "ipython",
    "version": 3
   },
   "file_extension": ".py",
   "mimetype": "text/x-python",
   "name": "python",
   "nbconvert_exporter": "python",
   "pygments_lexer": "ipython3",
   "version": "3.12.0"
  }
 },
 "nbformat": 4,
 "nbformat_minor": 2
}

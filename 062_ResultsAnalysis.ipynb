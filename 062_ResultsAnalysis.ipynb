{
 "cells": [
  {
   "cell_type": "markdown",
   "metadata": {},
   "source": [
    "# Análise de Resultados do Modelo LSTM\n",
    "\n",
    "Este notebook analisa os resultados do modelo LSTM treinado para prever a latitude e longitude da espécie ao longo do tempo. \n",
    "\n",
    "### **Uso dos Dados Meteorológicos**\n",
    "- Durante o treino, o modelo aprende padrões históricos associando as condições meteorológicas \n",
    "  (temperatura, velocidade do vento, precipitação, radiação solar) com os movimentos geográficos da espécie.\n",
    "- Isso ajuda a capturar tendências sazonais e ambientais que influenciam a posição dos indivíduos ao longo do tempo.\n",
    "\n",
    "### **Previsão sem Dados Meteorológicos**\n",
    "- Na fase de previsão, o modelo **não recebe dados meteorológicos** diretamente, pois esses dependem da posição futura.\n",
    "- O modelo faz previsões **somente com base nos padrões aprendidos** a partir da sequência de localizações passadas.\n",
    "\n",
    "Dessa forma, conseguimos utilizar os dados climáticos para aprendizado, mas não ficamos dependentes deles na previsão futura.\n",
    "\n"
   ]
  }
 ],
 "metadata": {
  "kernelspec": {
   "display_name": "Python 3",
   "language": "python",
   "name": "python3"
  },
  "language_info": {
   "codemirror_mode": {
    "name": "ipython",
    "version": 3
   },
   "file_extension": ".py",
   "mimetype": "text/x-python",
   "name": "python",
   "nbconvert_exporter": "python",
   "pygments_lexer": "ipython3",
   "version": "3.12.0"
  }
 },
 "nbformat": 4,
 "nbformat_minor": 2
}
